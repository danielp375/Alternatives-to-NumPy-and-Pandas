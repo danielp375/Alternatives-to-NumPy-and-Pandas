{
  "nbformat": 4,
  "nbformat_minor": 0,
  "metadata": {
    "colab": {
      "provenance": []
    },
    "kernelspec": {
      "name": "python3",
      "display_name": "Python 3"
    },
    "language_info": {
      "name": "python"
    }
  },
  "cells": [
    {
      "cell_type": "markdown",
      "source": [
        "<h1>SciPy<h1>\n",
        "<p>SciPy is a python library that is built on NumPy and can be integrated with other data science libraries like pandas and matplotlib. It can perform many mathematical operations that include modules for linear algebra, optimization, integration, interpolation, special functions, FFT, signal and image processing, ODE solvers, etc. <p>"
      ],
      "metadata": {
        "id": "XWkyhgIED0UB"
      }
    },
    {
      "cell_type": "markdown",
      "source": [
        "<h2>Installing SciPy<h2>"
      ],
      "metadata": {
        "id": "18Q-nBoBD_1P"
      }
    },
    {
      "cell_type": "code",
      "execution_count": 1,
      "metadata": {
        "colab": {
          "base_uri": "https://localhost:8080/"
        },
        "id": "soA-8r3PsaEy",
        "outputId": "4c5aefd1-c5c8-40bf-bb6f-6290dcbfcfde"
      },
      "outputs": [
        {
          "output_type": "stream",
          "name": "stdout",
          "text": [
            "Requirement already satisfied: scipy in /usr/local/lib/python3.10/dist-packages (1.11.2)\n",
            "Requirement already satisfied: numpy<1.28.0,>=1.21.6 in /usr/local/lib/python3.10/dist-packages (from scipy) (1.23.5)\n"
          ]
        }
      ],
      "source": [
        "!pip install scipy"
      ]
    },
    {
      "cell_type": "markdown",
      "source": [
        "<h2>Importing Scipy<h2>"
      ],
      "metadata": {
        "id": "0yvWBgjREDdk"
      }
    },
    {
      "cell_type": "code",
      "source": [
        "import numpy as np\n",
        "from scipy import linalg"
      ],
      "metadata": {
        "id": "BqmdymH-uZ-1"
      },
      "execution_count": 2,
      "outputs": []
    },
    {
      "cell_type": "markdown",
      "source": [
        "<h2>Creating a matrix<h2>"
      ],
      "metadata": {
        "id": "0AK8NIrEEMa_"
      }
    },
    {
      "cell_type": "code",
      "source": [
        "A = np.array([[1,2],[3,4]])"
      ],
      "metadata": {
        "id": "hotuxBvUuaBx"
      },
      "execution_count": 3,
      "outputs": []
    },
    {
      "cell_type": "markdown",
      "source": [
        "<h2>Matrix Inverse<h2>"
      ],
      "metadata": {
        "id": "98QQeozqETUf"
      }
    },
    {
      "cell_type": "code",
      "source": [
        "linalg.inv(A)"
      ],
      "metadata": {
        "colab": {
          "base_uri": "https://localhost:8080/"
        },
        "id": "kQVn7ImuuaFQ",
        "outputId": "dd183f89-56da-437f-b92f-2fa4fb6beb8e"
      },
      "execution_count": 4,
      "outputs": [
        {
          "output_type": "execute_result",
          "data": {
            "text/plain": [
              "array([[-2. ,  1. ],\n",
              "       [ 1.5, -0.5]])"
            ]
          },
          "metadata": {},
          "execution_count": 4
        }
      ]
    },
    {
      "cell_type": "markdown",
      "source": [
        "<h2>Lower Triangular and Upper Traingular Matrix"
      ],
      "metadata": {
        "id": "8YUGJStyEYSe"
      }
    },
    {
      "cell_type": "code",
      "source": [
        "linalg.lu(A)"
      ],
      "metadata": {
        "colab": {
          "base_uri": "https://localhost:8080/"
        },
        "id": "6278IIEhEYip",
        "outputId": "6cfd7f4e-34ee-4a30-a2cf-a2bf4d5955e0"
      },
      "execution_count": 5,
      "outputs": [
        {
          "output_type": "execute_result",
          "data": {
            "text/plain": [
              "(array([[0., 1.],\n",
              "        [1., 0.]]),\n",
              " array([[1.        , 0.        ],\n",
              "        [0.33333333, 1.        ]]),\n",
              " array([[3.        , 4.        ],\n",
              "        [0.        , 0.66666667]]))"
            ]
          },
          "metadata": {},
          "execution_count": 5
        }
      ]
    },
    {
      "cell_type": "markdown",
      "source": [
        "<h2>Creating an Orthogonal Matrix<h2>"
      ],
      "metadata": {
        "id": "p1w9motTEsxq"
      }
    },
    {
      "cell_type": "code",
      "source": [
        "linalg.orth(A)"
      ],
      "metadata": {
        "colab": {
          "base_uri": "https://localhost:8080/"
        },
        "id": "jHEcyWSoEs5N",
        "outputId": "eb0977b2-a483-40ae-fa2e-a875c57238d1"
      },
      "execution_count": 6,
      "outputs": [
        {
          "output_type": "execute_result",
          "data": {
            "text/plain": [
              "array([[-0.40455358, -0.9145143 ],\n",
              "       [-0.9145143 ,  0.40455358]])"
            ]
          },
          "metadata": {},
          "execution_count": 6
        }
      ]
    }
  ]
}