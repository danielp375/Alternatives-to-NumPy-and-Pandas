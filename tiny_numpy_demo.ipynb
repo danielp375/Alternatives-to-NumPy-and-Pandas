{
  "nbformat": 4,
  "nbformat_minor": 0,
  "metadata": {
    "colab": {
      "provenance": []
    },
    "kernelspec": {
      "name": "python3",
      "display_name": "Python 3"
    },
    "language_info": {
      "name": "python"
    }
  },
  "cells": [
    {
      "cell_type": "markdown",
      "source": [
        "<h1>Tiny NumPy<h1>\n",
        "<p>Tiny NumPy is a python library that is similar to Numpy but has limited functionality. One can calculate matrices and vectors using Tiny Numpy. However, like tiny array, it is faster than NumPy but not suitable for large arrays. </p>"
      ],
      "metadata": {
        "id": "wKYYutCMBxnz"
      }
    },
    {
      "cell_type": "markdown",
      "source": [
        "<h2>Installing Tiny NumPy<h2>"
      ],
      "metadata": {
        "id": "XwD2FX0tBxwa"
      }
    },
    {
      "cell_type": "code",
      "execution_count": 1,
      "metadata": {
        "colab": {
          "base_uri": "https://localhost:8080/"
        },
        "id": "M3m_QHgvqRiu",
        "outputId": "b2584638-2675-4737-cb08-cb4de57a4732"
      },
      "outputs": [
        {
          "output_type": "stream",
          "name": "stdout",
          "text": [
            "Collecting tinynumpy\n",
            "  Downloading tinynumpy-1.2.1.tar.gz (16 kB)\n",
            "  Preparing metadata (setup.py) ... \u001b[?25l\u001b[?25hdone\n",
            "Building wheels for collected packages: tinynumpy\n",
            "  Building wheel for tinynumpy (setup.py) ... \u001b[?25l\u001b[?25hdone\n",
            "  Created wheel for tinynumpy: filename=tinynumpy-1.2.1-py3-none-any.whl size=18463 sha256=151023c8dbccb717078bb049393c487c1805da73c97b7a2a13d338ab417c6b2a\n",
            "  Stored in directory: /root/.cache/pip/wheels/d2/3f/7f/041dc24cd71890caaf36ad2b6ba19bd1f351f335698be12b87\n",
            "Successfully built tinynumpy\n",
            "Installing collected packages: tinynumpy\n",
            "Successfully installed tinynumpy-1.2.1\n"
          ]
        }
      ],
      "source": [
        "!pip install tinynumpy"
      ]
    },
    {
      "cell_type": "markdown",
      "source": [
        "<h2>Importing Tiny NumPy<h2>"
      ],
      "metadata": {
        "id": "m5arrLQ5CCmt"
      }
    },
    {
      "cell_type": "code",
      "source": [
        "from tinynumpy import tinynumpy as tnp"
      ],
      "metadata": {
        "id": "SBsJ290EqaSm"
      },
      "execution_count": 2,
      "outputs": []
    },
    {
      "cell_type": "markdown",
      "source": [
        "<h2>Creating a 1D matrix</h2>"
      ],
      "metadata": {
        "id": "kfx5hTlZCcP6"
      }
    },
    {
      "cell_type": "code",
      "source": [
        "a = tnp.array([1.2, 3.4, 5.6])\n",
        "b = tnp.array([1.8, 14, 3.6])\n",
        "a"
      ],
      "metadata": {
        "colab": {
          "base_uri": "https://localhost:8080/"
        },
        "id": "VAagU2FYqaaX",
        "outputId": "7a9b6759-c5eb-4f8f-a2e1-385c30fd1df0"
      },
      "execution_count": 10,
      "outputs": [
        {
          "output_type": "execute_result",
          "data": {
            "text/plain": [
              "array([ 1.2,  3.4,  5.6])"
            ]
          },
          "metadata": {},
          "execution_count": 10
        }
      ]
    },
    {
      "cell_type": "markdown",
      "source": [
        "<h2>Vector addition</h2>"
      ],
      "metadata": {
        "id": "sVtij0GKChDM"
      }
    },
    {
      "cell_type": "code",
      "source": [
        "tnp.add(a,b)"
      ],
      "metadata": {
        "colab": {
          "base_uri": "https://localhost:8080/"
        },
        "id": "GzOf694FClQG",
        "outputId": "0bb3c34a-454b-4679-a12d-d2c621592f70"
      },
      "execution_count": 11,
      "outputs": [
        {
          "output_type": "execute_result",
          "data": {
            "text/plain": [
              "array([ 3.,  17.4,  9.2])"
            ]
          },
          "metadata": {},
          "execution_count": 11
        }
      ]
    },
    {
      "cell_type": "markdown",
      "source": [
        "<h2>Vector multiplication"
      ],
      "metadata": {
        "id": "idQXmbBKDkIx"
      }
    },
    {
      "cell_type": "code",
      "source": [
        "tnp.multiply(a,b)"
      ],
      "metadata": {
        "colab": {
          "base_uri": "https://localhost:8080/"
        },
        "id": "gVKtbArODnm8",
        "outputId": "a220dbfc-f061-42d3-a529-6e35bffc5892"
      },
      "execution_count": 12,
      "outputs": [
        {
          "output_type": "execute_result",
          "data": {
            "text/plain": [
              "array([ 2.16,  47.6,  20.16])"
            ]
          },
          "metadata": {},
          "execution_count": 12
        }
      ]
    },
    {
      "cell_type": "markdown",
      "source": [
        "<h2>"
      ],
      "metadata": {
        "id": "IqD5lW7hCoeD"
      }
    }
  ]
}