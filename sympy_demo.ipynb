{
  "nbformat": 4,
  "nbformat_minor": 0,
  "metadata": {
    "colab": {
      "provenance": []
    },
    "kernelspec": {
      "name": "python3",
      "display_name": "Python 3"
    },
    "language_info": {
      "name": "python"
    }
  },
  "cells": [
    {
      "cell_type": "markdown",
      "source": [
        "<h1>SymPy Demo</h1>\n",
        "<p>SymPy is a python library for symbolic mathematics. That is unlike other libraries that converts the equations into numeric arrays before solving, SymPy solves equations as it is.</p>"
      ],
      "metadata": {
        "id": "NOy7fXjfFE-0"
      }
    },
    {
      "cell_type": "markdown",
      "source": [
        "<h2>Installing SymPy</h2>"
      ],
      "metadata": {
        "id": "ItCLEf9QFNyG"
      }
    },
    {
      "cell_type": "code",
      "source": [
        "!pip install sympy"
      ],
      "metadata": {
        "colab": {
          "base_uri": "https://localhost:8080/"
        },
        "id": "2YVEXkSwFYGE",
        "outputId": "bad71fa1-021d-467e-ab72-4b67ff36a514"
      },
      "execution_count": 3,
      "outputs": [
        {
          "output_type": "stream",
          "name": "stdout",
          "text": [
            "Requirement already satisfied: sympy in /usr/local/lib/python3.10/dist-packages (1.12)\n",
            "Requirement already satisfied: mpmath>=0.19 in /usr/local/lib/python3.10/dist-packages (from sympy) (1.3.0)\n"
          ]
        }
      ]
    },
    {
      "cell_type": "markdown",
      "source": [
        "<h2>Importing SymPy</h2"
      ],
      "metadata": {
        "id": "rRNjL1AyFWKH"
      }
    },
    {
      "cell_type": "code",
      "source": [
        "import sympy\n",
        "sympy.init_printing()"
      ],
      "metadata": {
        "id": "JwpjocBbFRXr"
      },
      "execution_count": 4,
      "outputs": []
    },
    {
      "cell_type": "markdown",
      "source": [
        "<h2>Defining the variables</h2>"
      ],
      "metadata": {
        "id": "rbFQNoEuFnDq"
      }
    },
    {
      "cell_type": "code",
      "source": [
        "x, y = sympy.symbols('x y')"
      ],
      "metadata": {
        "id": "qZdU3R5HFrk7"
      },
      "execution_count": 5,
      "outputs": []
    },
    {
      "cell_type": "markdown",
      "source": [
        "<h2>Creating a linear equation with solution in x</h2>"
      ],
      "metadata": {
        "id": "l0wcY8V4FvyF"
      }
    },
    {
      "cell_type": "code",
      "source": [
        "eq = sympy.Eq(x + y, 2)\n",
        "sol = sympy.solve(eq, x)\n",
        "sol"
      ],
      "metadata": {
        "colab": {
          "base_uri": "https://localhost:8080/",
          "height": 39
        },
        "id": "ko8_KFUqxei9",
        "outputId": "4ef85b05-39b0-4708-8c5a-e8c6f277cfcc"
      },
      "execution_count": 6,
      "outputs": [
        {
          "output_type": "execute_result",
          "data": {
            "text/plain": [
              "[2 - y]"
            ],
            "text/latex": "$\\displaystyle \\left[ 2 - y\\right]$"
          },
          "metadata": {},
          "execution_count": 6
        }
      ]
    },
    {
      "cell_type": "markdown",
      "source": [
        "<h2>Creating a quadratic equation</h2>"
      ],
      "metadata": {
        "id": "NsFRFkgcGF-L"
      }
    },
    {
      "cell_type": "code",
      "source": [
        "expr = x**2 + 2*x - 3\n",
        "simp = sympy.simplify(expr)\n",
        "simp"
      ],
      "metadata": {
        "colab": {
          "base_uri": "https://localhost:8080/",
          "height": 39
        },
        "id": "g3zddEK1xelX",
        "outputId": "0257bb13-552c-42ab-eb93-25e1987445fd"
      },
      "execution_count": 4,
      "outputs": [
        {
          "output_type": "execute_result",
          "data": {
            "text/plain": [
              " 2          \n",
              "x  + 2⋅x - 3"
            ],
            "text/latex": "$\\displaystyle x^{2} + 2 x - 3$"
          },
          "metadata": {},
          "execution_count": 4
        }
      ]
    }
  ]
}