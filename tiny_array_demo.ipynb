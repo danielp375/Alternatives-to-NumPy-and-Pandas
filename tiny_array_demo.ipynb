{
  "nbformat": 4,
  "nbformat_minor": 0,
  "metadata": {
    "colab": {
      "provenance": []
    },
    "kernelspec": {
      "name": "python3",
      "display_name": "Python 3"
    },
    "language_info": {
      "name": "python"
    }
  },
  "cells": [
    {
      "cell_type": "markdown",
      "source": [
        "<h1>Tiny Array</h1>\n",
        "<p>Tiny Array is a python library similar to Numpy but used for handling smaller data. On computing smaller data, Tiny Array is 3 to 7 times faster than Numpy. However, it cannot handle large data. Another drawback of tiny array is that it is not used in most data science libraries like pandas, TensorFlow, etc.</p>"
      ],
      "metadata": {
        "id": "uwi4nwYNAgJc"
      }
    },
    {
      "cell_type": "markdown",
      "source": [
        "<h2>Installing Tiny Array </h2>"
      ],
      "metadata": {
        "id": "iJdAcQsuA8hj"
      }
    },
    {
      "cell_type": "code",
      "execution_count": 1,
      "metadata": {
        "colab": {
          "base_uri": "https://localhost:8080/"
        },
        "id": "_ZmpsCufj2Ty",
        "outputId": "209f4ff0-371e-4a6a-ea52-35a94733f74f"
      },
      "outputs": [
        {
          "output_type": "stream",
          "name": "stdout",
          "text": [
            "Collecting tinyarray\n",
            "  Downloading tinyarray-1.2.4.tar.gz (37 kB)\n",
            "  Preparing metadata (setup.py) ... \u001b[?25l\u001b[?25hdone\n",
            "Building wheels for collected packages: tinyarray\n",
            "  Building wheel for tinyarray (setup.py) ... \u001b[?25l\u001b[?25hdone\n",
            "  Created wheel for tinyarray: filename=tinyarray-1.2.4-cp310-cp310-linux_x86_64.whl size=253581 sha256=2e17dc4e3698cfc8dee70557d33b7a7c03adb80af2521214c454cca2e086cde6\n",
            "  Stored in directory: /root/.cache/pip/wheels/dc/72/12/09ea11413b527aa3c3a5757ee615ee4d206ee77043a86cbce8\n",
            "Successfully built tinyarray\n",
            "Installing collected packages: tinyarray\n",
            "Successfully installed tinyarray-1.2.4\n"
          ]
        }
      ],
      "source": [
        "!pip install tinyarray"
      ]
    },
    {
      "cell_type": "markdown",
      "source": [
        "<h2>Importing Tiny Array</h2>"
      ],
      "metadata": {
        "id": "kRCY7qDhBDbz"
      }
    },
    {
      "cell_type": "code",
      "source": [
        "import tinyarray as ta"
      ],
      "metadata": {
        "id": "Y0y_rC7QoqQR"
      },
      "execution_count": 2,
      "outputs": []
    },
    {
      "cell_type": "markdown",
      "source": [
        "<h2>Creating a 2x2 matrix</h2>"
      ],
      "metadata": {
        "id": "z7DCCK7-BLKI"
      }
    },
    {
      "cell_type": "code",
      "source": [
        "a = ta.array([[1, 2], [3, 4]])\n",
        "b = ta.array([[5, 6], [7, 8]])"
      ],
      "metadata": {
        "id": "_-VPIthNo4Yo"
      },
      "execution_count": 3,
      "outputs": []
    },
    {
      "cell_type": "markdown",
      "source": [
        "<h2>Matrix addition</h2>"
      ],
      "metadata": {
        "id": "XUT3ZGP5BR0a"
      }
    },
    {
      "cell_type": "code",
      "source": [
        "ta.add(a,b)"
      ],
      "metadata": {
        "colab": {
          "base_uri": "https://localhost:8080/"
        },
        "id": "bURHwQlSo51F",
        "outputId": "25c15e27-bd61-4b58-a134-fde126b1dc52"
      },
      "execution_count": 4,
      "outputs": [
        {
          "output_type": "execute_result",
          "data": {
            "text/plain": [
              "array([[6, 8],\n",
              "       [10, 12]])"
            ]
          },
          "metadata": {},
          "execution_count": 4
        }
      ]
    },
    {
      "cell_type": "markdown",
      "source": [
        "<h2>Matrix multiplication</h2>"
      ],
      "metadata": {
        "id": "cubnsUF6BcFV"
      }
    },
    {
      "cell_type": "code",
      "source": [
        "ta.multiply(a,b)"
      ],
      "metadata": {
        "colab": {
          "base_uri": "https://localhost:8080/"
        },
        "id": "6pzIzSPKBgvj",
        "outputId": "dedf50e3-43e1-4a04-8a75-acb2598151d8"
      },
      "execution_count": 5,
      "outputs": [
        {
          "output_type": "execute_result",
          "data": {
            "text/plain": [
              "array([[5, 12],\n",
              "       [21, 32]])"
            ]
          },
          "metadata": {},
          "execution_count": 5
        }
      ]
    },
    {
      "cell_type": "markdown",
      "source": [
        "<h2>Dot Product</h2>"
      ],
      "metadata": {
        "id": "p1mNEKoYBkVC"
      }
    },
    {
      "cell_type": "code",
      "source": [
        "ta.dot(a,b)"
      ],
      "metadata": {
        "id": "PX3uBIGQBnQo",
        "outputId": "81523be5-f088-46d6-b259-d0f51c05eb4b",
        "colab": {
          "base_uri": "https://localhost:8080/"
        }
      },
      "execution_count": 6,
      "outputs": [
        {
          "output_type": "execute_result",
          "data": {
            "text/plain": [
              "array([[19, 22],\n",
              "       [43, 50]])"
            ]
          },
          "metadata": {},
          "execution_count": 6
        }
      ]
    }
  ]
}