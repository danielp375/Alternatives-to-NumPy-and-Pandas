{
  "nbformat": 4,
  "nbformat_minor": 0,
  "metadata": {
    "colab": {
      "provenance": []
    },
    "kernelspec": {
      "name": "python3",
      "display_name": "Python 3"
    },
    "language_info": {
      "name": "python"
    }
  },
  "cells": [
    {
      "cell_type": "markdown",
      "source": [
        "<h1>PandaPy</h1>\n",
        "<p>PandaPy is a lightweight alternative to pandas. It is suitable for handling data frames up to 50,000 rows. It is more memory efficient than pandas for smaller datasets.</p>"
      ],
      "metadata": {
        "id": "7HhCybEBGT10"
      }
    },
    {
      "cell_type": "markdown",
      "source": [
        "<h2>Installing PandaPy<h2>"
      ],
      "metadata": {
        "id": "v5c0LHaAGdDV"
      }
    },
    {
      "cell_type": "code",
      "execution_count": 1,
      "metadata": {
        "colab": {
          "base_uri": "https://localhost:8080/"
        },
        "id": "DA2BqKgG1Xyz",
        "outputId": "e572f22a-c314-4049-a2ba-14b7ee0de677"
      },
      "outputs": [
        {
          "output_type": "stream",
          "name": "stdout",
          "text": [
            "Collecting pandapy\n",
            "  Downloading pandapy-2.2.tar.gz (18 kB)\n",
            "  Preparing metadata (setup.py) ... \u001b[?25l\u001b[?25hdone\n",
            "Requirement already satisfied: pandas in /usr/local/lib/python3.10/dist-packages (from pandapy) (1.5.3)\n",
            "Requirement already satisfied: numpy in /usr/local/lib/python3.10/dist-packages (from pandapy) (1.23.5)\n",
            "Requirement already satisfied: scipy in /usr/local/lib/python3.10/dist-packages (from pandapy) (1.11.2)\n",
            "Collecting numpy-groupies (from pandapy)\n",
            "  Downloading numpy_groupies-0.10.1-py3-none-any.whl (39 kB)\n",
            "Requirement already satisfied: numba in /usr/local/lib/python3.10/dist-packages (from pandapy) (0.56.4)\n",
            "Collecting datetime (from pandapy)\n",
            "  Downloading DateTime-5.2-py3-none-any.whl (52 kB)\n",
            "\u001b[2K     \u001b[90m━━━━━━━━━━━━━━━━━━━━━━━━━━━━━━━━━━━━━━━━\u001b[0m \u001b[32m52.2/52.2 kB\u001b[0m \u001b[31m5.3 MB/s\u001b[0m eta \u001b[36m0:00:00\u001b[0m\n",
            "\u001b[?25hRequirement already satisfied: ipython in /usr/local/lib/python3.10/dist-packages (from pandapy) (7.34.0)\n",
            "Collecting zope.interface (from datetime->pandapy)\n",
            "  Downloading zope.interface-6.0-cp310-cp310-manylinux_2_5_x86_64.manylinux1_x86_64.manylinux_2_17_x86_64.manylinux2014_x86_64.whl (246 kB)\n",
            "\u001b[2K     \u001b[90m━━━━━━━━━━━━━━━━━━━━━━━━━━━━━━━━━━━━━━\u001b[0m \u001b[32m247.0/247.0 kB\u001b[0m \u001b[31m11.4 MB/s\u001b[0m eta \u001b[36m0:00:00\u001b[0m\n",
            "\u001b[?25hRequirement already satisfied: pytz in /usr/local/lib/python3.10/dist-packages (from datetime->pandapy) (2023.3.post1)\n",
            "Requirement already satisfied: setuptools>=18.5 in /usr/local/lib/python3.10/dist-packages (from ipython->pandapy) (67.7.2)\n",
            "Collecting jedi>=0.16 (from ipython->pandapy)\n",
            "  Downloading jedi-0.19.0-py2.py3-none-any.whl (1.6 MB)\n",
            "\u001b[2K     \u001b[90m━━━━━━━━━━━━━━━━━━━━━━━━━━━━━━━━━━━━━━━━\u001b[0m \u001b[32m1.6/1.6 MB\u001b[0m \u001b[31m18.7 MB/s\u001b[0m eta \u001b[36m0:00:00\u001b[0m\n",
            "\u001b[?25hRequirement already satisfied: decorator in /usr/local/lib/python3.10/dist-packages (from ipython->pandapy) (4.4.2)\n",
            "Requirement already satisfied: pickleshare in /usr/local/lib/python3.10/dist-packages (from ipython->pandapy) (0.7.5)\n",
            "Requirement already satisfied: traitlets>=4.2 in /usr/local/lib/python3.10/dist-packages (from ipython->pandapy) (5.7.1)\n",
            "Requirement already satisfied: prompt-toolkit!=3.0.0,!=3.0.1,<3.1.0,>=2.0.0 in /usr/local/lib/python3.10/dist-packages (from ipython->pandapy) (3.0.39)\n",
            "Requirement already satisfied: pygments in /usr/local/lib/python3.10/dist-packages (from ipython->pandapy) (2.16.1)\n",
            "Requirement already satisfied: backcall in /usr/local/lib/python3.10/dist-packages (from ipython->pandapy) (0.2.0)\n",
            "Requirement already satisfied: matplotlib-inline in /usr/local/lib/python3.10/dist-packages (from ipython->pandapy) (0.1.6)\n",
            "Requirement already satisfied: pexpect>4.3 in /usr/local/lib/python3.10/dist-packages (from ipython->pandapy) (4.8.0)\n",
            "Requirement already satisfied: llvmlite<0.40,>=0.39.0dev0 in /usr/local/lib/python3.10/dist-packages (from numba->pandapy) (0.39.1)\n",
            "Requirement already satisfied: python-dateutil>=2.8.1 in /usr/local/lib/python3.10/dist-packages (from pandas->pandapy) (2.8.2)\n",
            "Requirement already satisfied: parso<0.9.0,>=0.8.3 in /usr/local/lib/python3.10/dist-packages (from jedi>=0.16->ipython->pandapy) (0.8.3)\n",
            "Requirement already satisfied: ptyprocess>=0.5 in /usr/local/lib/python3.10/dist-packages (from pexpect>4.3->ipython->pandapy) (0.7.0)\n",
            "Requirement already satisfied: wcwidth in /usr/local/lib/python3.10/dist-packages (from prompt-toolkit!=3.0.0,!=3.0.1,<3.1.0,>=2.0.0->ipython->pandapy) (0.2.6)\n",
            "Requirement already satisfied: six>=1.5 in /usr/local/lib/python3.10/dist-packages (from python-dateutil>=2.8.1->pandas->pandapy) (1.16.0)\n",
            "Building wheels for collected packages: pandapy\n",
            "  Building wheel for pandapy (setup.py) ... \u001b[?25l\u001b[?25hdone\n",
            "  Created wheel for pandapy: filename=pandapy-2.2-py3-none-any.whl size=9820 sha256=7ed53ccfe671f19b3b15d61166178eefc3b954209269553ad6fefd817048bdb1\n",
            "  Stored in directory: /root/.cache/pip/wheels/77/4e/b0/43a35672d7a0084a5438a6187d1ead641f272cb0734e5e67c0\n",
            "Successfully built pandapy\n",
            "Installing collected packages: zope.interface, numpy-groupies, jedi, datetime, pandapy\n",
            "Successfully installed datetime-5.2 jedi-0.19.0 numpy-groupies-0.10.1 pandapy-2.2 zope.interface-6.0\n"
          ]
        }
      ],
      "source": [
        "!pip install pandapy"
      ]
    },
    {
      "cell_type": "markdown",
      "source": [
        "<h2>Importing PandaPy</h2>"
      ],
      "metadata": {
        "id": "ubU5vi0-GhYF"
      }
    },
    {
      "cell_type": "code",
      "source": [
        "import pandapy as pp"
      ],
      "metadata": {
        "id": "gGuiHjHyGnJ8"
      },
      "execution_count": 2,
      "outputs": []
    },
    {
      "cell_type": "markdown",
      "source": [
        "<h2>Reading a csv file and creating a dataframe object</h2>"
      ],
      "metadata": {
        "id": "Avc40ghhGpZJ"
      }
    },
    {
      "cell_type": "code",
      "source": [
        "df = pp.read(\"/content/sample_data/california_housing_test.csv\")\n",
        "df"
      ],
      "metadata": {
        "colab": {
          "base_uri": "https://localhost:8080/"
        },
        "id": "3Zi6bMSG1sW7",
        "outputId": "df962d5a-8043-4e80-b547-3d1e92f06c77"
      },
      "execution_count": 3,
      "outputs": [
        {
          "output_type": "execute_result",
          "data": {
            "text/plain": [
              "array([(-122.05, 37.37, 27., 3885., 661., 1537., 606., 6.6085, 344700.),\n",
              "       (-118.3 , 34.26, 43., 1510., 310.,  809., 277., 3.599 , 176500.),\n",
              "       (-117.81, 33.78, 27., 3589., 507., 1484., 495., 5.7934, 270500.),\n",
              "       ...,\n",
              "       (-119.7 , 36.3 , 10.,  956., 201.,  693., 220., 2.2895,  62000.),\n",
              "       (-117.12, 34.1 , 40.,   96.,  14.,   46.,  14., 3.2708, 162500.),\n",
              "       (-119.63, 34.42, 42., 1765., 263.,  753., 260., 8.5608, 500001.)],\n",
              "      dtype=[('longitude', '<f8'), ('latitude', '<f8'), ('housing_median_age', '<f8'), ('total_rooms', '<f8'), ('total_bedrooms', '<f8'), ('population', '<f8'), ('households', '<f8'), ('median_income', '<f8'), ('median_house_value', '<f8')])"
            ]
          },
          "metadata": {},
          "execution_count": 3
        }
      ]
    },
    {
      "cell_type": "markdown",
      "source": [
        "<h2>Reading a particular column</h2>"
      ],
      "metadata": {
        "id": "_qYdat4VG0PP"
      }
    },
    {
      "cell_type": "code",
      "source": [
        "df['total_bedrooms']"
      ],
      "metadata": {
        "colab": {
          "base_uri": "https://localhost:8080/"
        },
        "id": "TM_RuNGA11TE",
        "outputId": "6ea61eb0-0fef-4a78-92f9-78e440596f65"
      },
      "execution_count": 4,
      "outputs": [
        {
          "output_type": "execute_result",
          "data": {
            "text/plain": [
              "array([661., 310., 507., ..., 201.,  14., 263.])"
            ]
          },
          "metadata": {},
          "execution_count": 4
        }
      ]
    },
    {
      "cell_type": "markdown",
      "source": [
        "<h2>Display the highest population<h2>"
      ],
      "metadata": {
        "id": "--zBLwAsG8kv"
      }
    },
    {
      "cell_type": "code",
      "source": [
        "df['population'].max()"
      ],
      "metadata": {
        "colab": {
          "base_uri": "https://localhost:8080/"
        },
        "id": "ngLZuNMrG8sx",
        "outputId": "5493e1bf-b3c2-4dd1-b92f-dd99668aa6b7"
      },
      "execution_count": 7,
      "outputs": [
        {
          "output_type": "execute_result",
          "data": {
            "text/plain": [
              "11935.0"
            ]
          },
          "metadata": {},
          "execution_count": 7
        }
      ]
    },
    {
      "cell_type": "markdown",
      "source": [
        "<h2>Displaying total number of rooms in all houses"
      ],
      "metadata": {
        "id": "Hjz_G4opHTWY"
      }
    },
    {
      "cell_type": "code",
      "source": [
        "df['total_rooms'].sum()"
      ],
      "metadata": {
        "colab": {
          "base_uri": "https://localhost:8080/"
        },
        "id": "2hyqxSz2HTds",
        "outputId": "fac9c93b-3da9-47af-d504-da6b5f03fd27"
      },
      "execution_count": 8,
      "outputs": [
        {
          "output_type": "execute_result",
          "data": {
            "text/plain": [
              "7798736.0"
            ]
          },
          "metadata": {},
          "execution_count": 8
        }
      ]
    }
  ]
}